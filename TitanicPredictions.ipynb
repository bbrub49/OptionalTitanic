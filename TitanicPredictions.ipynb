{
 "cells": [
  {
   "cell_type": "code",
   "execution_count": 256,
   "metadata": {
    "collapsed": false
   },
   "outputs": [
    {
     "name": "stdout",
     "output_type": "stream",
     "text": [
      "Populating the interactive namespace from numpy and matplotlib\n"
     ]
    }
   ],
   "source": [
    "import pandas as pd\n",
    "import re\n",
    "#from sklearn.metrics import mean_squared_error\n",
    "#from sklearn.metrics import r2_score\n",
    "from sklearn.metrics import roc_auc_score\n",
    "from sklearn.metrics import accuracy_score\n",
    "from sklearn.preprocessing import StandardScaler\n",
    "from sklearn.cross_validation import train_test_split\n",
    "from sklearn.ensemble import RandomForestRegressor\n",
    "from sklearn.linear_model import LogisticRegression\n",
    "pd.options.display.max_columns = 999\n",
    "%pylab inline"
   ]
  },
  {
   "cell_type": "code",
   "execution_count": 279,
   "metadata": {
    "collapsed": false
   },
   "outputs": [],
   "source": [
    "tmpX = pd.read_csv('train.csv')"
   ]
  },
  {
   "cell_type": "code",
   "execution_count": 280,
   "metadata": {
    "collapsed": true
   },
   "outputs": [],
   "source": [
    "def clean_cabin(x):\n",
    "    try:\n",
    "        return x[0]\n",
    "    except TypeError:\n",
    "        return \"Missing\""
   ]
  },
  {
   "cell_type": "code",
   "execution_count": 281,
   "metadata": {
    "collapsed": false
   },
   "outputs": [],
   "source": [
    "#tmpX.Name = tmpX.Name.str.extract(r'(Mrs|Miss|Mr)')"
   ]
  },
  {
   "cell_type": "code",
   "execution_count": 282,
   "metadata": {
    "collapsed": false
   },
   "outputs": [],
   "source": [
    "tmpX.Ticket = tmpX.Ticket.str.extract(r'(\\d{2,})')\n",
    "tmpX.Ticket = tmpX.Ticket.fillna('1601')"
   ]
  },
  {
   "cell_type": "code",
   "execution_count": 283,
   "metadata": {
    "collapsed": true
   },
   "outputs": [],
   "source": [
    "tmpX['Cabin'] = tmpX.Cabin.apply(clean_cabin)"
   ]
  },
  {
   "cell_type": "code",
   "execution_count": 284,
   "metadata": {
    "collapsed": true
   },
   "outputs": [],
   "source": [
    "tmp1 = tmpX[tmpX.Pclass == 1]\n",
    "tmp2 = tmpX[tmpX.Pclass == 2]\n",
    "tmp3 = tmpX[tmpX.Pclass == 3]"
   ]
  },
  {
   "cell_type": "code",
   "execution_count": 285,
   "metadata": {
    "collapsed": false
   },
   "outputs": [],
   "source": [
    "tmp1.Age.fillna(tmp1.Age.median(),inplace=True)\n",
    "tmp2.Age.fillna(tmp2.Age.median(),inplace=True)\n",
    "tmp3.Age.fillna(tmp3.Age.median(),inplace=True)"
   ]
  },
  {
   "cell_type": "code",
   "execution_count": 286,
   "metadata": {
    "collapsed": false
   },
   "outputs": [],
   "source": [
    "tmp1['Cabin'].replace('Missing','C',inplace=True)\n",
    "tmp2['Cabin'].replace('Missing','F',inplace=True)\n",
    "tmp3['Cabin'].replace('Missing','F',inplace=True)"
   ]
  },
  {
   "cell_type": "code",
   "execution_count": 287,
   "metadata": {
    "collapsed": false
   },
   "outputs": [],
   "source": [
    "#tmp1.loc[(tmp1.Sex == 'male') & (tmp1.Name.isnull()),'Name'] = 'Mr'\n",
    "#tmp1.loc[(tmp1.Sex == 'female') & (tmp1.Name.isnull()),'Name'] = 'Mrs'\n",
    "#tmp2.loc[(tmp2.Sex == 'male') & (tmp2.Name.isnull()),'Name'] = 'Mr'\n",
    "#tmp2.loc[(tmp2.Sex == 'female') & (tmp2.Name.isnull()),'Name'] = 'Mrs'\n",
    "#tmp3.loc[(tmp3.Sex == 'male') & (tmp3.Name.isnull()),'Name'] = 'Mr'\n",
    "#tmp3.loc[(tmp3.Sex == 'female') & (tmp3.Name.isnull()),'Name'] = 'Miss'"
   ]
  },
  {
   "cell_type": "code",
   "execution_count": 289,
   "metadata": {
    "collapsed": true
   },
   "outputs": [],
   "source": [
    "frames = [tmp1,tmp2,tmp3]\n",
    "X = pd.concat(frames)"
   ]
  },
  {
   "cell_type": "code",
   "execution_count": 290,
   "metadata": {
    "collapsed": true
   },
   "outputs": [],
   "source": [
    "X['Fam'] = X.SibSp+tmpX.Parch\n",
    "X.drop(['PassengerId','Name'],axis=1,inplace=True)"
   ]
  },
  {
   "cell_type": "code",
   "execution_count": 291,
   "metadata": {
    "collapsed": false
   },
   "outputs": [
    {
     "data": {
      "text/plain": [
       "Index([u'Survived', u'Pclass', u'Sex', u'Age', u'SibSp', u'Parch', u'Ticket',\n",
       "       u'Fare', u'Cabin', u'Embarked', u'Fam'],\n",
       "      dtype='object')"
      ]
     },
     "execution_count": 291,
     "metadata": {},
     "output_type": "execute_result"
    }
   ],
   "source": [
    "X.columns"
   ]
  },
  {
   "cell_type": "code",
   "execution_count": 292,
   "metadata": {
    "collapsed": false
   },
   "outputs": [
    {
     "data": {
      "text/plain": [
       "Survived    0\n",
       "Pclass      0\n",
       "Sex         0\n",
       "Age         0\n",
       "SibSp       0\n",
       "Parch       0\n",
       "Ticket      0\n",
       "Fare        0\n",
       "Cabin       0\n",
       "Embarked    2\n",
       "Fam         0\n",
       "dtype: int64"
      ]
     },
     "execution_count": 292,
     "metadata": {},
     "output_type": "execute_result"
    }
   ],
   "source": [
    "X.isnull().sum()"
   ]
  },
  {
   "cell_type": "code",
   "execution_count": 293,
   "metadata": {
    "collapsed": false
   },
   "outputs": [],
   "source": [
    "categorical_variables = ['Sex', 'Embarked','Pclass','Cabin','SibSp','Parch']\n",
    "\n",
    "for variable in categorical_variables:\n",
    "    X[variable].fillna(\"Missing\", inplace=True)\n",
    "    dummies = pd.get_dummies(X[variable], prefix=variable)\n",
    "    X = pd.concat([X, dummies], axis=1)\n",
    "    X.drop([variable], axis=1, inplace=True)"
   ]
  },
  {
   "cell_type": "code",
   "execution_count": 294,
   "metadata": {
    "collapsed": false
   },
   "outputs": [],
   "source": [
    "scaler = StandardScaler()\n",
    "y = X['Survived']\n",
    "y_log = X['Survived']\n",
    "X.drop(['Survived'],axis=1,inplace=True)\n",
    "X_log = scaler.fit_transform(X)"
   ]
  },
  {
   "cell_type": "code",
   "execution_count": 295,
   "metadata": {
    "collapsed": false
   },
   "outputs": [],
   "source": [
    "X_train, X_test, y_train, y_test = train_test_split(X_log,y_log, test_size=.2, random_state=42)"
   ]
  },
  {
   "cell_type": "code",
   "execution_count": 331,
   "metadata": {
    "collapsed": false
   },
   "outputs": [
    {
     "data": {
      "text/plain": [
       "LogisticRegression(C=1.0, class_weight=None, dual=False, fit_intercept=True,\n",
       "          intercept_scaling=1, max_iter=100, multi_class='ovr',\n",
       "          penalty='l1', random_state=None, solver='liblinear', tol=0.0001,\n",
       "          verbose=0)"
      ]
     },
     "execution_count": 331,
     "metadata": {},
     "output_type": "execute_result"
    }
   ],
   "source": [
    "model_log = LogisticRegression(penalty='l1', C=1.0)\n",
    "model_log.fit(X_train, y_train)"
   ]
  },
  {
   "cell_type": "code",
   "execution_count": 332,
   "metadata": {
    "collapsed": false
   },
   "outputs": [
    {
     "data": {
      "text/plain": [
       "0.88268156424581001"
      ]
     },
     "execution_count": 332,
     "metadata": {},
     "output_type": "execute_result"
    }
   ],
   "source": [
    "accuracy_score(y_test,model_log.predict(X_test))"
   ]
  },
  {
   "cell_type": "code",
   "execution_count": 333,
   "metadata": {
    "collapsed": false
   },
   "outputs": [
    {
     "data": {
      "text/plain": [
       "0.87623891497130935"
      ]
     },
     "execution_count": 333,
     "metadata": {},
     "output_type": "execute_result"
    }
   ],
   "source": [
    "#logit_roc_auc = \n",
    "roc_auc_score(y_test, model_log.predict(X_test))"
   ]
  },
  {
   "cell_type": "code",
   "execution_count": 299,
   "metadata": {
    "collapsed": false
   },
   "outputs": [
    {
     "data": {
      "text/plain": [
       "RandomForestRegressor(bootstrap=True, criterion='mse', max_depth=None,\n",
       "           max_features=0.9, max_leaf_nodes=None, min_samples_leaf=3,\n",
       "           min_samples_split=2, min_weight_fraction_leaf=0.0,\n",
       "           n_estimators=200, n_jobs=-1, oob_score=True, random_state=42,\n",
       "           verbose=0, warm_start=False)"
      ]
     },
     "execution_count": 299,
     "metadata": {},
     "output_type": "execute_result"
    }
   ],
   "source": [
    "model = RandomForestRegressor(n_estimators=200, \n",
    "                              oob_score=True, \n",
    "                              n_jobs=-1, \n",
    "                              random_state=42, \n",
    "                              max_features=0.9, \n",
    "                              min_samples_leaf=3)\n",
    "model.fit(X, y)"
   ]
  },
  {
   "cell_type": "code",
   "execution_count": 300,
   "metadata": {
    "collapsed": false
   },
   "outputs": [
    {
     "name": "stdout",
     "output_type": "stream",
     "text": [
      "C-stat:  0.882439097136\n"
     ]
    }
   ],
   "source": [
    "roc = roc_auc_score(y, model.oob_prediction_)\n",
    "print \"C-stat: \", roc"
   ]
  },
  {
   "cell_type": "code",
   "execution_count": 301,
   "metadata": {
    "collapsed": true
   },
   "outputs": [],
   "source": [
    "log_mod = model_log.predict(X_log)\n",
    "rf_mod = model.oob_prediction_"
   ]
  },
  {
   "cell_type": "code",
   "execution_count": 311,
   "metadata": {
    "collapsed": true
   },
   "outputs": [],
   "source": [
    "combo = (log_mod+rf_mod)/2"
   ]
  },
  {
   "cell_type": "markdown",
   "metadata": {},
   "source": [
    "# FINAL SCORE"
   ]
  },
  {
   "cell_type": "code",
   "execution_count": 312,
   "metadata": {
    "collapsed": false
   },
   "outputs": [
    {
     "data": {
      "text/plain": [
       "0.88460678106924884"
      ]
     },
     "execution_count": 312,
     "metadata": {},
     "output_type": "execute_result"
    }
   ],
   "source": [
    "roc_auc_score(y, combo)"
   ]
  },
  {
   "cell_type": "markdown",
   "metadata": {},
   "source": [
    "# Forest Testing"
   ]
  },
  {
   "cell_type": "code",
   "execution_count": 215,
   "metadata": {
    "collapsed": false
   },
   "outputs": [
    {
     "name": "stdout",
     "output_type": "stream",
     "text": [
      "50 trees auto features 2 min samples\n",
      "C-stat:  0.866900478275\n",
      "\n",
      "50 trees auto features 3 min samples\n",
      "C-stat:  0.872548706313\n",
      "\n",
      "50 trees auto features 4 min samples\n",
      "C-stat:  0.873299672983\n",
      "\n",
      "50 trees auto features 5 min samples\n",
      "C-stat:  0.8745512841\n",
      "\n",
      "50 trees auto features 6 min samples\n",
      "C-stat:  0.87758976981\n",
      "\n",
      "50 trees sqrt features 2 min samples\n",
      "C-stat:  0.876149085525\n",
      "\n",
      "50 trees sqrt features 3 min samples\n",
      "C-stat:  0.87316119686\n",
      "\n",
      "50 trees sqrt features 4 min samples\n",
      "C-stat:  0.874311613886\n",
      "\n",
      "50 trees sqrt features 5 min samples\n",
      "C-stat:  0.876596469924\n",
      "\n",
      "50 trees sqrt features 6 min samples\n",
      "C-stat:  0.870641996613\n",
      "\n",
      "50 trees log2 features 2 min samples\n",
      "C-stat:  0.876149085525\n",
      "\n",
      "50 trees log2 features 3 min samples\n",
      "C-stat:  0.87316119686\n",
      "\n",
      "50 trees log2 features 4 min samples\n",
      "C-stat:  0.874311613886\n",
      "\n",
      "50 trees log2 features 5 min samples\n",
      "C-stat:  0.876596469924\n",
      "\n",
      "50 trees log2 features 6 min samples\n",
      "C-stat:  0.870641996613\n",
      "\n",
      "50 trees 0.9 features 2 min samples\n",
      "C-stat:  0.871422256309\n",
      "\n",
      "50 trees 0.9 features 3 min samples\n",
      "C-stat:  0.873549995207\n",
      "\n",
      "50 trees 0.9 features 4 min samples\n",
      "C-stat:  0.871965508793\n",
      "\n",
      "50 trees 0.9 features 5 min samples\n",
      "C-stat:  0.874782965306\n",
      "\n",
      "50 trees 0.9 features 6 min samples\n",
      "C-stat:  0.876173052546\n",
      "\n",
      "50 trees 0.2 features 2 min samples\n",
      "C-stat:  0.872878918608\n",
      "\n",
      "50 trees 0.2 features 3 min samples\n",
      "C-stat:  0.872143929952\n",
      "\n",
      "50 trees 0.2 features 4 min samples\n",
      "C-stat:  0.875749635169\n",
      "\n",
      "50 trees 0.2 features 5 min samples\n",
      "C-stat:  0.870136026161\n",
      "\n",
      "50 trees 0.2 features 6 min samples\n",
      "C-stat:  0.873805643435\n",
      "\n",
      "100 trees auto features 2 min samples\n",
      "C-stat:  0.876876085173\n",
      "\n",
      "100 trees auto features 3 min samples\n",
      "C-stat:  0.879965167929\n",
      "\n",
      "100 trees auto features 4 min samples\n",
      "C-stat:  0.878231553383\n",
      "\n",
      "100 trees auto features 5 min samples\n",
      "C-stat:  0.878591058703\n",
      "\n",
      "100 trees auto features 6 min samples\n",
      "C-stat:  0.880649559539\n",
      "\n",
      "100 trees sqrt features 2 min samples\n",
      "C-stat:  0.877001246285\n",
      "\n",
      "100 trees sqrt features 3 min samples\n",
      "C-stat:  0.876181041553\n",
      "\n",
      "100 trees sqrt features 4 min samples\n",
      "C-stat:  0.873853577477\n",
      "\n",
      "100 trees sqrt features 5 min samples\n",
      "C-stat:  0.877661670874\n",
      "\n",
      "100 trees sqrt features 6 min samples\n",
      "C-stat:  0.871653937515\n",
      "\n",
      "100 trees log2 features 2 min samples\n",
      "C-stat:  0.877001246285\n",
      "\n",
      "100 trees log2 features 3 min samples\n",
      "C-stat:  0.876181041553\n",
      "\n",
      "100 trees log2 features 4 min samples\n",
      "C-stat:  0.873853577477\n",
      "\n",
      "100 trees log2 features 5 min samples\n",
      "C-stat:  0.877661670874\n",
      "\n",
      "100 trees log2 features 6 min samples\n",
      "C-stat:  0.871653937515\n",
      "\n",
      "100 trees 0.9 features 2 min samples\n",
      "C-stat:  0.877531183758\n",
      "\n",
      "100 trees 0.9 features 3 min samples\n",
      "C-stat:  0.879592347596\n",
      "\n",
      "100 trees 0.9 features 4 min samples\n",
      "C-stat:  0.878322095463\n",
      "\n",
      "100 trees 0.9 features 5 min samples\n",
      "C-stat:  0.879046432109\n",
      "\n",
      "100 trees 0.9 features 6 min samples\n",
      "C-stat:  0.879448545468\n",
      "\n",
      "100 trees 0.2 features 2 min samples\n",
      "C-stat:  0.877789494988\n",
      "\n",
      "100 trees 0.2 features 3 min samples\n",
      "C-stat:  0.874844214361\n",
      "\n",
      "100 trees 0.2 features 4 min samples\n",
      "C-stat:  0.875547246988\n",
      "\n",
      "100 trees 0.2 features 5 min samples\n",
      "C-stat:  0.873411519083\n",
      "\n",
      "100 trees 0.2 features 6 min samples\n",
      "C-stat:  0.874934756442\n",
      "\n",
      "200 trees auto features 2 min samples\n",
      "C-stat:  0.876822825126\n",
      "\n",
      "200 trees auto features 3 min samples\n",
      "C-stat:  0.88106498791\n",
      "\n",
      "200 trees auto features 4 min samples\n",
      "C-stat:  0.879616314618\n",
      "\n",
      "200 trees auto features 5 min samples\n",
      "C-stat:  0.880380596299\n",
      "\n",
      "200 trees auto features 6 min samples\n",
      "C-stat:  0.881006401858\n",
      "\n",
      "200 trees sqrt features 2 min samples\n",
      "C-stat:  0.877709604917\n",
      "\n",
      "200 trees sqrt features 3 min samples\n",
      "C-stat:  0.876788206095\n",
      "\n",
      "200 trees sqrt features 4 min samples\n",
      "C-stat:  0.872367622152\n",
      "\n",
      "200 trees sqrt features 5 min samples\n",
      "C-stat:  0.875824199235\n",
      "\n",
      "200 trees sqrt features 6 min samples\n",
      "C-stat:  0.870780472736\n",
      "\n",
      "200 trees log2 features 2 min samples\n",
      "C-stat:  0.877709604917\n",
      "\n",
      "200 trees log2 features 3 min samples\n",
      "C-stat:  0.876788206095\n",
      "\n",
      "200 trees log2 features 4 min samples\n",
      "C-stat:  0.872367622152\n",
      "\n",
      "200 trees log2 features 5 min samples\n",
      "C-stat:  0.875824199235\n",
      "\n",
      "200 trees log2 features 6 min samples\n",
      "C-stat:  0.870780472736\n",
      "\n",
      "200 trees 0.9 features 2 min samples\n",
      "C-stat:  0.878090414257\n",
      "\n",
      "200 trees 0.9 features 3 min samples\n",
      "C-stat:  0.882439097136\n",
      "\n",
      "200 trees 0.9 features 4 min samples\n",
      "C-stat:  0.879275450314\n",
      "\n",
      "200 trees 0.9 features 5 min samples\n",
      "C-stat:  0.879339362371\n",
      "\n",
      "200 trees 0.9 features 6 min samples\n",
      "C-stat:  0.880689504575\n",
      "\n",
      "200 trees 0.2 features 2 min samples\n",
      "C-stat:  0.877459282694\n",
      "\n",
      "200 trees 0.2 features 3 min samples\n",
      "C-stat:  0.875989305382\n",
      "\n",
      "200 trees 0.2 features 4 min samples\n",
      "C-stat:  0.87391216353\n",
      "\n",
      "200 trees 0.2 features 5 min samples\n",
      "C-stat:  0.872165233971\n",
      "\n",
      "200 trees 0.2 features 6 min samples\n",
      "C-stat:  0.873352933031\n",
      "\n",
      "500 trees auto features 2 min samples\n",
      "C-stat:  0.877786831986\n",
      "\n",
      "500 trees auto features 3 min samples\n",
      "C-stat:  0.880170219112\n",
      "\n",
      "500 trees auto features 4 min samples\n",
      "C-stat:  0.879658922656\n",
      "\n",
      "500 trees auto features 5 min samples\n",
      "C-stat:  0.880085003036\n",
      "\n",
      "500 trees auto features 6 min samples\n",
      "C-stat:  0.880343314266\n",
      "\n",
      "500 trees sqrt features 2 min samples\n",
      "C-stat:  0.876596469924\n",
      "\n",
      "500 trees sqrt features 3 min samples\n",
      "C-stat:  0.876085173468\n",
      "\n",
      "500 trees sqrt features 4 min samples\n",
      "C-stat:  0.872346318133\n",
      "\n",
      "500 trees sqrt features 5 min samples\n",
      "C-stat:  0.872958808679\n",
      "\n",
      "500 trees sqrt features 6 min samples\n",
      "C-stat:  0.871057424983\n",
      "\n",
      "500 trees log2 features 2 min samples\n",
      "C-stat:  0.876596469924\n",
      "\n",
      "500 trees log2 features 3 min samples\n",
      "C-stat:  0.876085173468\n",
      "\n",
      "500 trees log2 features 4 min samples\n",
      "C-stat:  0.872346318133\n",
      "\n",
      "500 trees log2 features 5 min samples\n",
      "C-stat:  0.872958808679\n",
      "\n",
      "500 trees log2 features 6 min samples\n",
      "C-stat:  0.871057424983\n",
      "\n",
      "500 trees 0.9 features 2 min samples\n",
      "C-stat:  0.879443219463\n",
      "\n",
      "500 trees 0.9 features 3 min samples\n",
      "C-stat:  0.880937163796\n",
      "\n",
      "500 trees 0.9 features 4 min samples\n",
      "C-stat:  0.880497768404\n",
      "\n",
      "500 trees 0.9 features 5 min samples\n",
      "C-stat:  0.879925222893\n",
      "\n",
      "500 trees 0.9 features 6 min samples\n",
      "C-stat:  0.880409889326\n",
      "\n",
      "500 trees 0.2 features 2 min samples\n",
      "C-stat:  0.878923934\n",
      "\n",
      "500 trees 0.2 features 3 min samples\n",
      "C-stat:  0.876127781506\n",
      "\n",
      "500 trees 0.2 features 4 min samples\n",
      "C-stat:  0.876239627606\n",
      "\n",
      "500 trees 0.2 features 5 min samples\n",
      "C-stat:  0.873890859511\n",
      "\n",
      "500 trees 0.2 features 6 min samples\n",
      "C-stat:  0.874503350057\n",
      "\n",
      "1000 trees auto features 2 min samples\n",
      "C-stat:  0.877256894513\n",
      "\n",
      "1000 trees auto features 3 min samples\n",
      "C-stat:  0.879962504927\n",
      "\n",
      "1000 trees auto features 4 min samples\n",
      "C-stat:  0.879493816508\n",
      "\n",
      "1000 trees auto features 5 min samples\n",
      "C-stat:  0.879738812727\n",
      "\n",
      "1000 trees auto features 6 min samples\n",
      "C-stat:  0.880005112965\n",
      "\n",
      "1000 trees sqrt features 2 min samples\n",
      "C-stat:  0.8769053782\n",
      "\n",
      "1000 trees sqrt features 3 min samples\n",
      "C-stat:  0.875493986941\n",
      "\n",
      "1000 trees sqrt features 4 min samples\n",
      "C-stat:  0.872660552413\n",
      "\n",
      "1000 trees sqrt features 5 min samples\n",
      "C-stat:  0.871888281724\n",
      "\n",
      "1000 trees sqrt features 6 min samples\n",
      "C-stat:  0.870237220252\n",
      "\n",
      "1000 trees log2 features 2 min samples\n",
      "C-stat:  0.8769053782\n",
      "\n",
      "1000 trees log2 features 3 min samples\n",
      "C-stat:  0.875493986941\n",
      "\n",
      "1000 trees log2 features 4 min samples\n",
      "C-stat:  0.872660552413\n",
      "\n",
      "1000 trees log2 features 5 min samples\n",
      "C-stat:  0.871888281724\n",
      "\n",
      "1000 trees log2 features 6 min samples\n",
      "C-stat:  0.870237220252\n",
      "\n",
      "1000 trees 0.9 features 2 min samples\n",
      "C-stat:  0.879041106105\n",
      "\n",
      "1000 trees 0.9 features 3 min samples\n",
      "C-stat:  0.881096943938\n",
      "\n",
      "1000 trees 0.9 features 4 min samples\n",
      "C-stat:  0.880891892756\n",
      "\n",
      "1000 trees 0.9 features 5 min samples\n",
      "C-stat:  0.880199512138\n",
      "\n",
      "1000 trees 0.9 features 6 min samples\n",
      "C-stat:  0.881001075853\n",
      "\n",
      "1000 trees 0.2 features 2 min samples\n",
      "C-stat:  0.880191523131\n",
      "\n",
      "1000 trees 0.2 features 3 min samples\n",
      "C-stat:  0.877688300898\n",
      "\n",
      "1000 trees 0.2 features 4 min samples\n",
      "C-stat:  0.876543209877\n",
      "\n",
      "1000 trees 0.2 features 5 min samples\n",
      "C-stat:  0.875073232565\n",
      "\n",
      "1000 trees 0.2 features 6 min samples\n",
      "C-stat:  0.875222360698\n",
      "\n"
     ]
    }
   ],
   "source": [
    "results = []\n",
    "n_estimator_options = [50, 100, 200, 500, 1000]\n",
    "max_features_options = [\"auto\", \"sqrt\", \"log2\", 0.9, 0.2]\n",
    "min_samples_leaf_options = [2, 3, 4, 5, 6]\n",
    "\n",
    "for trees in n_estimator_options:\n",
    "    for features in max_features_options:\n",
    "        for min_samples in min_samples_leaf_options:\n",
    "            model = RandomForestRegressor(n_estimators=trees, \n",
    "                                          oob_score=True, \n",
    "                                          n_jobs=-1, \n",
    "                                          random_state=42, \n",
    "                                          max_features=features, \n",
    "                                          min_samples_leaf=min_samples)\n",
    "            model.fit(X, y)\n",
    "            print trees, \"trees\", features, \"features\", min_samples, \"min samples\"\n",
    "            roc = roc_auc_score(y, model.oob_prediction_)\n",
    "            print \"C-stat: \", roc\n",
    "            results.append(roc)\n",
    "            print \"\"\n",
    "    \n",
    "#pd.Series(results, min_samples_leaf_options).plot();"
   ]
  },
  {
   "cell_type": "code",
   "execution_count": null,
   "metadata": {
    "collapsed": true
   },
   "outputs": [],
   "source": []
  }
 ],
 "metadata": {
  "kernelspec": {
   "display_name": "Python 2",
   "language": "python",
   "name": "python2"
  },
  "language_info": {
   "codemirror_mode": {
    "name": "ipython",
    "version": 2
   },
   "file_extension": ".py",
   "mimetype": "text/x-python",
   "name": "python",
   "nbconvert_exporter": "python",
   "pygments_lexer": "ipython2",
   "version": "2.7.10"
  }
 },
 "nbformat": 4,
 "nbformat_minor": 0
}
